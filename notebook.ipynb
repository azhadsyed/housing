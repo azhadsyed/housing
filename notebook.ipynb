{
 "metadata": {
  "language_info": {
   "codemirror_mode": {
    "name": "ipython",
    "version": 3
   },
   "file_extension": ".py",
   "mimetype": "text/x-python",
   "name": "python",
   "nbconvert_exporter": "python",
   "pygments_lexer": "ipython3",
   "version": "3.7.3-final"
  },
  "orig_nbformat": 2,
  "kernelspec": {
   "name": "python3",
   "display_name": "Python 3.7.3 32-bit",
   "metadata": {
    "interpreter": {
     "hash": "b23e10766b3b253949f7f2d8366083353eacb3ecfbf2e9e8976c9d1075c1d57a"
    }
   }
  }
 },
 "nbformat": 4,
 "nbformat_minor": 2,
 "cells": [
  {
   "source": [
    "# Model Training and Evaluation\n",
    "\n",
    "This notebook is for experimenting with, benchmarking and documenting the accuracy of various models."
   ],
   "cell_type": "markdown",
   "metadata": {}
  },
  {
   "cell_type": "code",
   "execution_count": 2,
   "metadata": {},
   "outputs": [],
   "source": [
    "import numpy as np\n",
    "import pandas as pd\n",
    "from joblib import dump\n",
    "from sklearn.compose import make_column_transformer\n",
    "from sklearn.ensemble import RandomForestRegressor\n",
    "from sklearn.model_selection import train_test_split\n",
    "from sklearn.pipeline import make_pipeline\n",
    "from sklearn.preprocessing import OneHotEncoder"
   ]
  },
  {
   "cell_type": "code",
   "execution_count": 6,
   "metadata": {},
   "outputs": [
    {
     "output_type": "execute_result",
     "data": {
      "text/plain": [
       "              id    price  cats_ok  dogs_ok housing_type          laundry  \\\n",
       "400   7243739917   5995.0     True     True    apartment  laundry in bldg   \n",
       "981   7243204343   1199.0     True    False    apartment  laundry in bldg   \n",
       "2594  7241233839   7000.0     True     True    apartment  laundry in bldg   \n",
       "1448  7242612783   1295.0    False    False         loft  laundry in bldg   \n",
       "2502  7241353528  10000.0    False    False         loft  laundry in bldg   \n",
       "884   7243270829   5000.0    False    False    apartment  laundry in bldg   \n",
       "2812  7241056352  11750.0     True     True    apartment      w/d in unit   \n",
       "2214  7241674966   4585.0     True     True    apartment      w/d in unit   \n",
       "3325  7244489860   5600.0    False    False    apartment      w/d in unit   \n",
       "3431  7244424237   1200.0     True     True    apartment  laundry in bldg   \n",
       "\n",
       "      bedrooms  bathrooms          parking  no_smoking  is_furnished  \\\n",
       "400        2.0        1.0   street parking       False         False   \n",
       "981        2.0        2.0   street parking       False         False   \n",
       "2594       7.0        2.0  attached garage       False         False   \n",
       "1448       0.0        4.0   street parking        True         False   \n",
       "2502       2.0        3.0  attached garage       False          True   \n",
       "884        4.0        1.0   street parking        True         False   \n",
       "2812       2.0        2.0   street parking        True         False   \n",
       "2214       1.0        1.0   street parking       False         False   \n",
       "3325       2.0        2.0   street parking       False         False   \n",
       "3431       4.0        1.0   street parking        True          True   \n",
       "\n",
       "      wheelchair_acccess  ev_charging   latitude  longitude  predictions  \\\n",
       "400                False        False  40.726640 -73.994129  2406.187619   \n",
       "981                False        False  40.719348 -74.009230  4699.225000   \n",
       "2594               False        False  40.718864 -73.946798  3694.194167   \n",
       "1448               False        False  40.679000 -73.964400  4194.100000   \n",
       "2502               False        False  40.743934 -73.926171  7471.130000   \n",
       "884                False        False  40.675146 -73.981326  2505.000000   \n",
       "2812               False        False  40.723882 -74.003466  9384.566667   \n",
       "2214               False        False  40.710100 -74.001300  2629.255000   \n",
       "3325               False        False  40.774294 -73.978812  3758.480000   \n",
       "3431               False        False  40.713177 -73.950725  2928.100000   \n",
       "\n",
       "            error  \n",
       "400   3588.812381  \n",
       "981   3500.225000  \n",
       "2594  3305.805833  \n",
       "1448  2899.100000  \n",
       "2502  2528.870000  \n",
       "884   2495.000000  \n",
       "2812  2365.433333  \n",
       "2214  1955.745000  \n",
       "3325  1841.520000  \n",
       "3431  1728.100000  "
      ],
      "text/html": "<div>\n<style scoped>\n    .dataframe tbody tr th:only-of-type {\n        vertical-align: middle;\n    }\n\n    .dataframe tbody tr th {\n        vertical-align: top;\n    }\n\n    .dataframe thead th {\n        text-align: right;\n    }\n</style>\n<table border=\"1\" class=\"dataframe\">\n  <thead>\n    <tr style=\"text-align: right;\">\n      <th></th>\n      <th>id</th>\n      <th>price</th>\n      <th>cats_ok</th>\n      <th>dogs_ok</th>\n      <th>housing_type</th>\n      <th>laundry</th>\n      <th>bedrooms</th>\n      <th>bathrooms</th>\n      <th>parking</th>\n      <th>no_smoking</th>\n      <th>is_furnished</th>\n      <th>wheelchair_acccess</th>\n      <th>ev_charging</th>\n      <th>latitude</th>\n      <th>longitude</th>\n      <th>predictions</th>\n      <th>error</th>\n    </tr>\n  </thead>\n  <tbody>\n    <tr>\n      <th>400</th>\n      <td>7243739917</td>\n      <td>5995.0</td>\n      <td>True</td>\n      <td>True</td>\n      <td>apartment</td>\n      <td>laundry in bldg</td>\n      <td>2.0</td>\n      <td>1.0</td>\n      <td>street parking</td>\n      <td>False</td>\n      <td>False</td>\n      <td>False</td>\n      <td>False</td>\n      <td>40.726640</td>\n      <td>-73.994129</td>\n      <td>2406.187619</td>\n      <td>3588.812381</td>\n    </tr>\n    <tr>\n      <th>981</th>\n      <td>7243204343</td>\n      <td>1199.0</td>\n      <td>True</td>\n      <td>False</td>\n      <td>apartment</td>\n      <td>laundry in bldg</td>\n      <td>2.0</td>\n      <td>2.0</td>\n      <td>street parking</td>\n      <td>False</td>\n      <td>False</td>\n      <td>False</td>\n      <td>False</td>\n      <td>40.719348</td>\n      <td>-74.009230</td>\n      <td>4699.225000</td>\n      <td>3500.225000</td>\n    </tr>\n    <tr>\n      <th>2594</th>\n      <td>7241233839</td>\n      <td>7000.0</td>\n      <td>True</td>\n      <td>True</td>\n      <td>apartment</td>\n      <td>laundry in bldg</td>\n      <td>7.0</td>\n      <td>2.0</td>\n      <td>attached garage</td>\n      <td>False</td>\n      <td>False</td>\n      <td>False</td>\n      <td>False</td>\n      <td>40.718864</td>\n      <td>-73.946798</td>\n      <td>3694.194167</td>\n      <td>3305.805833</td>\n    </tr>\n    <tr>\n      <th>1448</th>\n      <td>7242612783</td>\n      <td>1295.0</td>\n      <td>False</td>\n      <td>False</td>\n      <td>loft</td>\n      <td>laundry in bldg</td>\n      <td>0.0</td>\n      <td>4.0</td>\n      <td>street parking</td>\n      <td>True</td>\n      <td>False</td>\n      <td>False</td>\n      <td>False</td>\n      <td>40.679000</td>\n      <td>-73.964400</td>\n      <td>4194.100000</td>\n      <td>2899.100000</td>\n    </tr>\n    <tr>\n      <th>2502</th>\n      <td>7241353528</td>\n      <td>10000.0</td>\n      <td>False</td>\n      <td>False</td>\n      <td>loft</td>\n      <td>laundry in bldg</td>\n      <td>2.0</td>\n      <td>3.0</td>\n      <td>attached garage</td>\n      <td>False</td>\n      <td>True</td>\n      <td>False</td>\n      <td>False</td>\n      <td>40.743934</td>\n      <td>-73.926171</td>\n      <td>7471.130000</td>\n      <td>2528.870000</td>\n    </tr>\n    <tr>\n      <th>884</th>\n      <td>7243270829</td>\n      <td>5000.0</td>\n      <td>False</td>\n      <td>False</td>\n      <td>apartment</td>\n      <td>laundry in bldg</td>\n      <td>4.0</td>\n      <td>1.0</td>\n      <td>street parking</td>\n      <td>True</td>\n      <td>False</td>\n      <td>False</td>\n      <td>False</td>\n      <td>40.675146</td>\n      <td>-73.981326</td>\n      <td>2505.000000</td>\n      <td>2495.000000</td>\n    </tr>\n    <tr>\n      <th>2812</th>\n      <td>7241056352</td>\n      <td>11750.0</td>\n      <td>True</td>\n      <td>True</td>\n      <td>apartment</td>\n      <td>w/d in unit</td>\n      <td>2.0</td>\n      <td>2.0</td>\n      <td>street parking</td>\n      <td>True</td>\n      <td>False</td>\n      <td>False</td>\n      <td>False</td>\n      <td>40.723882</td>\n      <td>-74.003466</td>\n      <td>9384.566667</td>\n      <td>2365.433333</td>\n    </tr>\n    <tr>\n      <th>2214</th>\n      <td>7241674966</td>\n      <td>4585.0</td>\n      <td>True</td>\n      <td>True</td>\n      <td>apartment</td>\n      <td>w/d in unit</td>\n      <td>1.0</td>\n      <td>1.0</td>\n      <td>street parking</td>\n      <td>False</td>\n      <td>False</td>\n      <td>False</td>\n      <td>False</td>\n      <td>40.710100</td>\n      <td>-74.001300</td>\n      <td>2629.255000</td>\n      <td>1955.745000</td>\n    </tr>\n    <tr>\n      <th>3325</th>\n      <td>7244489860</td>\n      <td>5600.0</td>\n      <td>False</td>\n      <td>False</td>\n      <td>apartment</td>\n      <td>w/d in unit</td>\n      <td>2.0</td>\n      <td>2.0</td>\n      <td>street parking</td>\n      <td>False</td>\n      <td>False</td>\n      <td>False</td>\n      <td>False</td>\n      <td>40.774294</td>\n      <td>-73.978812</td>\n      <td>3758.480000</td>\n      <td>1841.520000</td>\n    </tr>\n    <tr>\n      <th>3431</th>\n      <td>7244424237</td>\n      <td>1200.0</td>\n      <td>True</td>\n      <td>True</td>\n      <td>apartment</td>\n      <td>laundry in bldg</td>\n      <td>4.0</td>\n      <td>1.0</td>\n      <td>street parking</td>\n      <td>True</td>\n      <td>True</td>\n      <td>False</td>\n      <td>False</td>\n      <td>40.713177</td>\n      <td>-73.950725</td>\n      <td>2928.100000</td>\n      <td>1728.100000</td>\n    </tr>\n  </tbody>\n</table>\n</div>"
     },
     "metadata": {},
     "execution_count": 6
    }
   ],
   "source": [
    "data = pd.read_csv(\"data.csv\")\n",
    "\n",
    "categorical_features = data.dtypes[\n",
    "    data.dtypes == \"object\"\n",
    "].index.values  # [\"housing_type\", \"laundry\", \"parking\"]\n",
    "\n",
    "# 1. Split the data\n",
    "X = data.drop([\"price\", \"id\"], axis=1, inplace=False)\n",
    "y = data[\"price\"]\n",
    "X_train, X_test, y_train, y_test = train_test_split(X, y, test_size=0.2)\n",
    "\n",
    "# 2. preprocess the features for training\n",
    "ct = make_column_transformer(\n",
    "    (\n",
    "        OneHotEncoder(handle_unknown = \"ignore\"),\n",
    "        categorical_features,\n",
    "    ),\n",
    "    remainder=\"passthrough\",\n",
    ")\n",
    "rf = RandomForestRegressor()\n",
    "\n",
    "# 3. Fit and score the model\n",
    "model = make_pipeline(ct, rf)\n",
    "model.fit(X_train, y_train)\n",
    "\n",
    "# predictions = model.predict(X_test)\n",
    "# error = abs(predictions - y_test)\n",
    "# print(error.describe())\n",
    "\n",
    "data[\"predictions\"] = model.predict(X)\n",
    "data[\"error\"] = abs(data.predictions - data.price)\n",
    "data.error.describe()\n",
    "data.sort_values(by = \"error\", ascending = False).head(10)"
   ]
  },
  {
   "cell_type": "code",
   "execution_count": 5,
   "metadata": {},
   "outputs": [
    {
     "output_type": "execute_result",
     "data": {
      "text/plain": [
       "0.7144159543626989"
      ]
     },
     "metadata": {},
     "execution_count": 5
    }
   ],
   "source": [
    "model.score(X_test, y_test)"
   ]
  }
 ]
}