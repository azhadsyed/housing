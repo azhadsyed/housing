{
 "metadata": {
  "language_info": {
   "codemirror_mode": {
    "name": "ipython",
    "version": 3
   },
   "file_extension": ".py",
   "mimetype": "text/x-python",
   "name": "python",
   "nbconvert_exporter": "python",
   "pygments_lexer": "ipython3",
   "version": "3.7.3-final"
  },
  "orig_nbformat": 2,
  "kernelspec": {
   "name": "python3",
   "display_name": "Python 3.7.3 32-bit",
   "metadata": {
    "interpreter": {
     "hash": "b23e10766b3b253949f7f2d8366083353eacb3ecfbf2e9e8976c9d1075c1d57a"
    }
   }
  }
 },
 "nbformat": 4,
 "nbformat_minor": 2,
 "cells": [
  {
   "source": [
    "# Model Training and Evaluation\n",
    "\n",
    "This notebook is for experimenting with, benchmarking and documenting the accuracy of various models."
   ],
   "cell_type": "markdown",
   "metadata": {}
  },
  {
   "cell_type": "code",
   "execution_count": null,
   "metadata": {},
   "outputs": [],
   "source": [
    "from IPython.core.interactiveshell import InteractiveShell\n",
    "InteractiveShell.ast_node_interactivity = \"all\"\n",
    "\n",
    "import numpy as np\n",
    "import pandas as pd\n",
    "from joblib import dump\n",
    "from sklearn.compose import make_column_transformer\n",
    "from sklearn.ensemble import RandomForestRegressor\n",
    "from sklearn.model_selection import train_test_split\n",
    "from sklearn.pipeline import make_pipeline\n",
    "from sklearn.preprocessing import OneHotEncoder"
   ]
  },
  {
   "cell_type": "code",
   "execution_count": null,
   "metadata": {},
   "outputs": [],
   "source": [
    "data = pd.read_csv(\"data.csv\")\n",
    "data = data[data.price > 10]\n",
    "\n",
    "categorical_features = data.dtypes[\n",
    "    data.dtypes == \"object\"\n",
    "].index.values  # [\"housing_type\", \"laundry\", \"parking\"]\n",
    "\n",
    "# 1. Split the data\n",
    "X = data.drop([\"price\", \"id\"], axis=1, inplace=False)\n",
    "y = data[\"price\"]\n",
    "X_train, X_test, y_train, y_test = train_test_split(X, y, test_size=0.2)\n",
    "\n",
    "# 2. preprocess the features for training\n",
    "ct = make_column_transformer(\n",
    "    (\n",
    "        OneHotEncoder(handle_unknown = \"ignore\"),\n",
    "        categorical_features,\n",
    "    ),\n",
    "    remainder=\"passthrough\",\n",
    ")\n",
    "rf = RandomForestRegressor()\n",
    "\n",
    "# 3. Fit and score the model\n",
    "model = make_pipeline(ct, rf)\n",
    "model.fit(X_train, y_train)\n",
    "\n",
    "# predictions = model.predict(X_test)\n",
    "# error = abs(predictions - y_test)\n",
    "# print(error.describe())\n",
    "\n",
    "data[\"predictions\"] = model.predict(X)\n",
    "data[\"error\"] = abs(data.predictions - data.price)\n",
    "data.error.describe()\n",
    "model.score(X_test, y_test)"
   ]
  },
  {
   "cell_type": "code",
   "execution_count": 25,
   "metadata": {},
   "outputs": [
    {
     "output_type": "execute_result",
     "data": {
      "text/plain": [
       "              id    price  cats_ok  dogs_ok housing_type          laundry  \\\n",
       "1830  7242059570   5975.0     True     True    apartment      w/d in unit   \n",
       "1276  7242887976    750.0    False    False        condo      w/d in unit   \n",
       "2812  7241056352  11750.0     True     True    apartment      w/d in unit   \n",
       "859   7243291968   7100.0     True     True        house  laundry in bldg   \n",
       "552   7243680274   1000.0    False    False    apartment      w/d in unit   \n",
       "464   7243721252   2500.0    False    False    apartment      w/d hookups   \n",
       "3301  7244515400   4500.0    False    False    apartment  laundry in bldg   \n",
       "1551  7242457718   1615.0     True     True    apartment  laundry in bldg   \n",
       "2502  7241353528  10000.0    False    False         loft  laundry in bldg   \n",
       "2741  7241094494   1300.0     True     True    apartment      w/d in unit   \n",
       "\n",
       "      bedrooms  bathrooms          parking  no_smoking  is_furnished  \\\n",
       "1830       3.0        1.0  detached garage        True         False   \n",
       "1276       2.0        2.0   street parking        True          True   \n",
       "2812       2.0        2.0   street parking        True         False   \n",
       "859        6.0        4.5  attached garage       False         False   \n",
       "552        3.0        0.5   street parking        True         False   \n",
       "464        3.0        2.0       no parking       False         False   \n",
       "3301       3.0        1.0   street parking       False         False   \n",
       "1551       0.0        1.0   street parking       False         False   \n",
       "2502       2.0        3.0  attached garage       False          True   \n",
       "2741       1.0        1.5   street parking       False         False   \n",
       "\n",
       "      wheelchair_acccess  ev_charging   latitude  longitude  predictions  \\\n",
       "1830               False        False  40.680488 -74.000344  2982.580000   \n",
       "1276               False        False  36.776000 -76.076600  3545.691667   \n",
       "2812               False        False  40.723882 -74.003466  9100.046000   \n",
       "859                False        False  40.790235 -73.742666  4620.880000   \n",
       "552                False        False  40.688300 -74.000700  3371.290000   \n",
       "464                False        False  40.762396 -73.978601  4808.340000   \n",
       "3301               False        False  40.645100 -73.945000  2376.350000   \n",
       "1551               False        False  40.701200 -73.943600  3692.760000   \n",
       "2502               False        False  40.743934 -73.926171  8087.440000   \n",
       "2741               False        False  40.708151 -73.942481  3170.240000   \n",
       "\n",
       "            error  \n",
       "1830  2992.420000  \n",
       "1276  2795.691667  \n",
       "2812  2649.954000  \n",
       "859   2479.120000  \n",
       "552   2371.290000  \n",
       "464   2308.340000  \n",
       "3301  2123.650000  \n",
       "1551  2077.760000  \n",
       "2502  1912.560000  \n",
       "2741  1870.240000  "
      ],
      "text/html": "<div>\n<style scoped>\n    .dataframe tbody tr th:only-of-type {\n        vertical-align: middle;\n    }\n\n    .dataframe tbody tr th {\n        vertical-align: top;\n    }\n\n    .dataframe thead th {\n        text-align: right;\n    }\n</style>\n<table border=\"1\" class=\"dataframe\">\n  <thead>\n    <tr style=\"text-align: right;\">\n      <th></th>\n      <th>id</th>\n      <th>price</th>\n      <th>cats_ok</th>\n      <th>dogs_ok</th>\n      <th>housing_type</th>\n      <th>laundry</th>\n      <th>bedrooms</th>\n      <th>bathrooms</th>\n      <th>parking</th>\n      <th>no_smoking</th>\n      <th>is_furnished</th>\n      <th>wheelchair_acccess</th>\n      <th>ev_charging</th>\n      <th>latitude</th>\n      <th>longitude</th>\n      <th>predictions</th>\n      <th>error</th>\n    </tr>\n  </thead>\n  <tbody>\n    <tr>\n      <th>1830</th>\n      <td>7242059570</td>\n      <td>5975.0</td>\n      <td>True</td>\n      <td>True</td>\n      <td>apartment</td>\n      <td>w/d in unit</td>\n      <td>3.0</td>\n      <td>1.0</td>\n      <td>detached garage</td>\n      <td>True</td>\n      <td>False</td>\n      <td>False</td>\n      <td>False</td>\n      <td>40.680488</td>\n      <td>-74.000344</td>\n      <td>2982.580000</td>\n      <td>2992.420000</td>\n    </tr>\n    <tr>\n      <th>1276</th>\n      <td>7242887976</td>\n      <td>750.0</td>\n      <td>False</td>\n      <td>False</td>\n      <td>condo</td>\n      <td>w/d in unit</td>\n      <td>2.0</td>\n      <td>2.0</td>\n      <td>street parking</td>\n      <td>True</td>\n      <td>True</td>\n      <td>False</td>\n      <td>False</td>\n      <td>36.776000</td>\n      <td>-76.076600</td>\n      <td>3545.691667</td>\n      <td>2795.691667</td>\n    </tr>\n    <tr>\n      <th>2812</th>\n      <td>7241056352</td>\n      <td>11750.0</td>\n      <td>True</td>\n      <td>True</td>\n      <td>apartment</td>\n      <td>w/d in unit</td>\n      <td>2.0</td>\n      <td>2.0</td>\n      <td>street parking</td>\n      <td>True</td>\n      <td>False</td>\n      <td>False</td>\n      <td>False</td>\n      <td>40.723882</td>\n      <td>-74.003466</td>\n      <td>9100.046000</td>\n      <td>2649.954000</td>\n    </tr>\n    <tr>\n      <th>859</th>\n      <td>7243291968</td>\n      <td>7100.0</td>\n      <td>True</td>\n      <td>True</td>\n      <td>house</td>\n      <td>laundry in bldg</td>\n      <td>6.0</td>\n      <td>4.5</td>\n      <td>attached garage</td>\n      <td>False</td>\n      <td>False</td>\n      <td>False</td>\n      <td>False</td>\n      <td>40.790235</td>\n      <td>-73.742666</td>\n      <td>4620.880000</td>\n      <td>2479.120000</td>\n    </tr>\n    <tr>\n      <th>552</th>\n      <td>7243680274</td>\n      <td>1000.0</td>\n      <td>False</td>\n      <td>False</td>\n      <td>apartment</td>\n      <td>w/d in unit</td>\n      <td>3.0</td>\n      <td>0.5</td>\n      <td>street parking</td>\n      <td>True</td>\n      <td>False</td>\n      <td>False</td>\n      <td>False</td>\n      <td>40.688300</td>\n      <td>-74.000700</td>\n      <td>3371.290000</td>\n      <td>2371.290000</td>\n    </tr>\n    <tr>\n      <th>464</th>\n      <td>7243721252</td>\n      <td>2500.0</td>\n      <td>False</td>\n      <td>False</td>\n      <td>apartment</td>\n      <td>w/d hookups</td>\n      <td>3.0</td>\n      <td>2.0</td>\n      <td>no parking</td>\n      <td>False</td>\n      <td>False</td>\n      <td>False</td>\n      <td>False</td>\n      <td>40.762396</td>\n      <td>-73.978601</td>\n      <td>4808.340000</td>\n      <td>2308.340000</td>\n    </tr>\n    <tr>\n      <th>3301</th>\n      <td>7244515400</td>\n      <td>4500.0</td>\n      <td>False</td>\n      <td>False</td>\n      <td>apartment</td>\n      <td>laundry in bldg</td>\n      <td>3.0</td>\n      <td>1.0</td>\n      <td>street parking</td>\n      <td>False</td>\n      <td>False</td>\n      <td>False</td>\n      <td>False</td>\n      <td>40.645100</td>\n      <td>-73.945000</td>\n      <td>2376.350000</td>\n      <td>2123.650000</td>\n    </tr>\n    <tr>\n      <th>1551</th>\n      <td>7242457718</td>\n      <td>1615.0</td>\n      <td>True</td>\n      <td>True</td>\n      <td>apartment</td>\n      <td>laundry in bldg</td>\n      <td>0.0</td>\n      <td>1.0</td>\n      <td>street parking</td>\n      <td>False</td>\n      <td>False</td>\n      <td>False</td>\n      <td>False</td>\n      <td>40.701200</td>\n      <td>-73.943600</td>\n      <td>3692.760000</td>\n      <td>2077.760000</td>\n    </tr>\n    <tr>\n      <th>2502</th>\n      <td>7241353528</td>\n      <td>10000.0</td>\n      <td>False</td>\n      <td>False</td>\n      <td>loft</td>\n      <td>laundry in bldg</td>\n      <td>2.0</td>\n      <td>3.0</td>\n      <td>attached garage</td>\n      <td>False</td>\n      <td>True</td>\n      <td>False</td>\n      <td>False</td>\n      <td>40.743934</td>\n      <td>-73.926171</td>\n      <td>8087.440000</td>\n      <td>1912.560000</td>\n    </tr>\n    <tr>\n      <th>2741</th>\n      <td>7241094494</td>\n      <td>1300.0</td>\n      <td>True</td>\n      <td>True</td>\n      <td>apartment</td>\n      <td>w/d in unit</td>\n      <td>1.0</td>\n      <td>1.5</td>\n      <td>street parking</td>\n      <td>False</td>\n      <td>False</td>\n      <td>False</td>\n      <td>False</td>\n      <td>40.708151</td>\n      <td>-73.942481</td>\n      <td>3170.240000</td>\n      <td>1870.240000</td>\n    </tr>\n  </tbody>\n</table>\n</div>"
     },
     "metadata": {},
     "execution_count": 25
    }
   ],
   "source": [
    "data.sort_values(by = \"error\", ascending = False).head(10)"
   ]
  }
 ]
}