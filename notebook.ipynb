{
 "metadata": {
  "language_info": {
   "codemirror_mode": {
    "name": "ipython",
    "version": 3
   },
   "file_extension": ".py",
   "mimetype": "text/x-python",
   "name": "python",
   "nbconvert_exporter": "python",
   "pygments_lexer": "ipython3",
   "version": "3.7.3-final"
  },
  "orig_nbformat": 2,
  "kernelspec": {
   "name": "python3",
   "display_name": "Python 3.7.3 32-bit",
   "metadata": {
    "interpreter": {
     "hash": "b23e10766b3b253949f7f2d8366083353eacb3ecfbf2e9e8976c9d1075c1d57a"
    }
   }
  }
 },
 "nbformat": 4,
 "nbformat_minor": 2,
 "cells": [
  {
   "source": [
    "# Model Training and Evaluation\n",
    "\n",
    "This notebook is for experimenting with, benchmarking and documenting the accuracy of various models."
   ],
   "cell_type": "markdown",
   "metadata": {}
  },
  {
   "cell_type": "code",
   "execution_count": 2,
   "metadata": {},
   "outputs": [],
   "source": [
    "from IPython.core.interactiveshell import InteractiveShell\n",
    "InteractiveShell.ast_node_interactivity = \"all\"\n",
    "\n",
    "import numpy as np\n",
    "import pandas as pd\n",
    "from joblib import dump\n",
    "from sklearn.compose import make_column_transformer\n",
    "from sklearn.ensemble import RandomForestRegressor\n",
    "from sklearn.model_selection import train_test_split\n",
    "from sklearn.pipeline import make_pipeline\n",
    "from sklearn.preprocessing import OneHotEncoder\n",
    "from sklearn.neighbors import KNeighborsRegressor"
   ]
  },
  {
   "cell_type": "code",
   "execution_count": 3,
   "metadata": {},
   "outputs": [
    {
     "output_type": "stream",
     "name": "stdout",
     "text": [
      "<class 'pandas.core.frame.DataFrame'>\nInt64Index: 27833 entries, 0 to 27832\nData columns (total 15 columns):\n #   Column              Non-Null Count  Dtype  \n---  ------              --------------  -----  \n 0   id                  27833 non-null  int64  \n 1   price               27833 non-null  float64\n 2   cats_ok             27833 non-null  bool   \n 3   dogs_ok             27833 non-null  bool   \n 4   housing_type        27833 non-null  object \n 5   laundry             27833 non-null  object \n 6   parking             27833 non-null  object \n 7   bedrooms            27833 non-null  float64\n 8   bathrooms           27833 non-null  float64\n 9   no_smoking          27833 non-null  bool   \n 10  is_furnished        27833 non-null  bool   \n 11  ev_charging         27833 non-null  bool   \n 12  wheelchair_acccess  27833 non-null  bool   \n 13  latitude            27833 non-null  float64\n 14  longitude           27833 non-null  float64\ndtypes: bool(6), float64(5), int64(1), object(3)\nmemory usage: 2.0+ MB\n"
     ]
    },
    {
     "output_type": "execute_result",
     "data": {
      "text/plain": [
       "                 id        price      bedrooms    bathrooms      latitude  \\\n",
       "count  2.783300e+04  27833.00000  27833.000000  27833.00000  27833.000000   \n",
       "mean   7.256984e+09   2166.11375      1.700895      1.15708     40.739576   \n",
       "std    8.396103e+06    774.96046      1.050926      0.39069      0.267998   \n",
       "min    7.241938e+09     16.00000      0.000000      0.00000     20.917400   \n",
       "25%    7.249436e+09   1700.00000      1.000000      1.00000     40.683600   \n",
       "50%    7.257756e+09   2000.00000      2.000000      1.00000     40.712702   \n",
       "75%    7.264252e+09   2499.00000      2.000000      1.00000     40.765152   \n",
       "max    7.271335e+09  10000.00000      8.000000      5.00000     44.322700   \n",
       "\n",
       "          longitude  \n",
       "count  27833.000000  \n",
       "mean     -73.948984  \n",
       "std        0.989485  \n",
       "min     -156.677200  \n",
       "25%      -73.972518  \n",
       "50%      -73.942769  \n",
       "75%      -73.907604  \n",
       "max      -71.032500  "
      ],
      "text/html": "<div>\n<style scoped>\n    .dataframe tbody tr th:only-of-type {\n        vertical-align: middle;\n    }\n\n    .dataframe tbody tr th {\n        vertical-align: top;\n    }\n\n    .dataframe thead th {\n        text-align: right;\n    }\n</style>\n<table border=\"1\" class=\"dataframe\">\n  <thead>\n    <tr style=\"text-align: right;\">\n      <th></th>\n      <th>id</th>\n      <th>price</th>\n      <th>bedrooms</th>\n      <th>bathrooms</th>\n      <th>latitude</th>\n      <th>longitude</th>\n    </tr>\n  </thead>\n  <tbody>\n    <tr>\n      <th>count</th>\n      <td>2.783300e+04</td>\n      <td>27833.00000</td>\n      <td>27833.000000</td>\n      <td>27833.00000</td>\n      <td>27833.000000</td>\n      <td>27833.000000</td>\n    </tr>\n    <tr>\n      <th>mean</th>\n      <td>7.256984e+09</td>\n      <td>2166.11375</td>\n      <td>1.700895</td>\n      <td>1.15708</td>\n      <td>40.739576</td>\n      <td>-73.948984</td>\n    </tr>\n    <tr>\n      <th>std</th>\n      <td>8.396103e+06</td>\n      <td>774.96046</td>\n      <td>1.050926</td>\n      <td>0.39069</td>\n      <td>0.267998</td>\n      <td>0.989485</td>\n    </tr>\n    <tr>\n      <th>min</th>\n      <td>7.241938e+09</td>\n      <td>16.00000</td>\n      <td>0.000000</td>\n      <td>0.00000</td>\n      <td>20.917400</td>\n      <td>-156.677200</td>\n    </tr>\n    <tr>\n      <th>25%</th>\n      <td>7.249436e+09</td>\n      <td>1700.00000</td>\n      <td>1.000000</td>\n      <td>1.00000</td>\n      <td>40.683600</td>\n      <td>-73.972518</td>\n    </tr>\n    <tr>\n      <th>50%</th>\n      <td>7.257756e+09</td>\n      <td>2000.00000</td>\n      <td>2.000000</td>\n      <td>1.00000</td>\n      <td>40.712702</td>\n      <td>-73.942769</td>\n    </tr>\n    <tr>\n      <th>75%</th>\n      <td>7.264252e+09</td>\n      <td>2499.00000</td>\n      <td>2.000000</td>\n      <td>1.00000</td>\n      <td>40.765152</td>\n      <td>-73.907604</td>\n    </tr>\n    <tr>\n      <th>max</th>\n      <td>7.271335e+09</td>\n      <td>10000.00000</td>\n      <td>8.000000</td>\n      <td>5.00000</td>\n      <td>44.322700</td>\n      <td>-71.032500</td>\n    </tr>\n  </tbody>\n</table>\n</div>"
     },
     "metadata": {},
     "execution_count": 3
    }
   ],
   "source": [
    "data = pd.read_csv(\"data.csv\")\n",
    "data = data[data.price > 10]\n",
    "data.info()\n",
    "\n",
    "categorical_features = data.dtypes[\n",
    "    data.dtypes == \"object\"\n",
    "].index.values  # [\"housing_type\", \"laundry\", \"parking\"]\n",
    "\n",
    "data.describe()"
   ]
  },
  {
   "source": [
    "## Trial 1: Sklearn Random Forest Regressor"
   ],
   "cell_type": "markdown",
   "metadata": {}
  },
  {
   "cell_type": "code",
   "execution_count": 18,
   "metadata": {},
   "outputs": [
    {
     "output_type": "stream",
     "name": "stdout",
     "text": [
      "count    5567.000000\nmean      483.518139\nstd       510.198484\nmin         1.306751\n25%       181.806751\n50%       355.306751\n75%       605.306751\nmax      6052.319777\nName: price, dtype: float64\n"
     ]
    },
    {
     "output_type": "execute_result",
     "data": {
      "text/plain": [
       "0.19109741621410914"
      ]
     },
     "metadata": {},
     "execution_count": 18
    },
    {
     "output_type": "execute_result",
     "data": {
      "text/plain": [
       "               id    price  cats_ok  dogs_ok housing_type          laundry  \\\n",
       "7362   7250359896  10000.0    False    False         loft      w/d in unit   \n",
       "26867  7270316139  10000.0     True     True    apartment      w/d in unit   \n",
       "18051  7261439030   9995.0     True     True    apartment  laundry in bldg   \n",
       "22930  7266212958   8718.0    False    False    apartment      w/d in unit   \n",
       "20005  7263688258   9000.0    False    False         loft      w/d in unit   \n",
       "13930  7258118719   9000.0    False    False    apartment  laundry in bldg   \n",
       "3024   7245127913   8800.0    False    False    apartment      w/d in unit   \n",
       "15747  7259654551   8718.0     True     True    apartment      w/d in unit   \n",
       "3025   7245127220   8700.0    False    False        condo      w/d in unit   \n",
       "13598  7257365911   8500.0     True     True    apartment      w/d in unit   \n",
       "\n",
       "               parking  bedrooms  bathrooms  no_smoking  is_furnished  \\\n",
       "7362   attached garage       2.0        3.0       False          True   \n",
       "26867   street parking       3.0        3.0       False         False   \n",
       "18051   street parking       3.0        3.0       False         False   \n",
       "22930   street parking       3.0        0.0       False         False   \n",
       "20005  attached garage       2.0        3.0       False          True   \n",
       "13930       no parking       3.0        2.0       False         False   \n",
       "3024    street parking       3.0        2.0       False         False   \n",
       "15747  detached garage       3.0        2.5       False         False   \n",
       "3025    street parking       2.0        2.0       False         False   \n",
       "13598  attached garage       3.0        2.0       False         False   \n",
       "\n",
       "       ev_charging  wheelchair_acccess   latitude  longitude  predictions  \\\n",
       "7362         False               False  40.743934 -73.926171  2943.796120   \n",
       "26867        False               False  40.710823 -74.005650  2947.680223   \n",
       "18051        False               False  40.717075 -74.004830  2947.680223   \n",
       "22930        False               False  40.710884 -74.005610  2009.190855   \n",
       "20005        False               False  40.743934 -73.926171  2943.796120   \n",
       "13930        False               False  40.777003 -73.961628  2947.680223   \n",
       "3024         False               False  40.729980 -73.982070  2947.680223   \n",
       "15747        False               False  40.710397 -74.005599  2947.680223   \n",
       "3025         False               False  40.716488 -74.014450  2943.796120   \n",
       "13598        False               False  40.709904 -73.995667  2947.680223   \n",
       "\n",
       "             error  \n",
       "7362   7056.203880  \n",
       "26867  7052.319777  \n",
       "18051  7047.319777  \n",
       "22930  6708.809145  \n",
       "20005  6056.203880  \n",
       "13930  6052.319777  \n",
       "3024   5852.319777  \n",
       "15747  5770.319777  \n",
       "3025   5756.203880  \n",
       "13598  5552.319777  "
      ],
      "text/html": "<div>\n<style scoped>\n    .dataframe tbody tr th:only-of-type {\n        vertical-align: middle;\n    }\n\n    .dataframe tbody tr th {\n        vertical-align: top;\n    }\n\n    .dataframe thead th {\n        text-align: right;\n    }\n</style>\n<table border=\"1\" class=\"dataframe\">\n  <thead>\n    <tr style=\"text-align: right;\">\n      <th></th>\n      <th>id</th>\n      <th>price</th>\n      <th>cats_ok</th>\n      <th>dogs_ok</th>\n      <th>housing_type</th>\n      <th>laundry</th>\n      <th>parking</th>\n      <th>bedrooms</th>\n      <th>bathrooms</th>\n      <th>no_smoking</th>\n      <th>is_furnished</th>\n      <th>ev_charging</th>\n      <th>wheelchair_acccess</th>\n      <th>latitude</th>\n      <th>longitude</th>\n      <th>predictions</th>\n      <th>error</th>\n    </tr>\n  </thead>\n  <tbody>\n    <tr>\n      <th>7362</th>\n      <td>7250359896</td>\n      <td>10000.0</td>\n      <td>False</td>\n      <td>False</td>\n      <td>loft</td>\n      <td>w/d in unit</td>\n      <td>attached garage</td>\n      <td>2.0</td>\n      <td>3.0</td>\n      <td>False</td>\n      <td>True</td>\n      <td>False</td>\n      <td>False</td>\n      <td>40.743934</td>\n      <td>-73.926171</td>\n      <td>2943.796120</td>\n      <td>7056.203880</td>\n    </tr>\n    <tr>\n      <th>26867</th>\n      <td>7270316139</td>\n      <td>10000.0</td>\n      <td>True</td>\n      <td>True</td>\n      <td>apartment</td>\n      <td>w/d in unit</td>\n      <td>street parking</td>\n      <td>3.0</td>\n      <td>3.0</td>\n      <td>False</td>\n      <td>False</td>\n      <td>False</td>\n      <td>False</td>\n      <td>40.710823</td>\n      <td>-74.005650</td>\n      <td>2947.680223</td>\n      <td>7052.319777</td>\n    </tr>\n    <tr>\n      <th>18051</th>\n      <td>7261439030</td>\n      <td>9995.0</td>\n      <td>True</td>\n      <td>True</td>\n      <td>apartment</td>\n      <td>laundry in bldg</td>\n      <td>street parking</td>\n      <td>3.0</td>\n      <td>3.0</td>\n      <td>False</td>\n      <td>False</td>\n      <td>False</td>\n      <td>False</td>\n      <td>40.717075</td>\n      <td>-74.004830</td>\n      <td>2947.680223</td>\n      <td>7047.319777</td>\n    </tr>\n    <tr>\n      <th>22930</th>\n      <td>7266212958</td>\n      <td>8718.0</td>\n      <td>False</td>\n      <td>False</td>\n      <td>apartment</td>\n      <td>w/d in unit</td>\n      <td>street parking</td>\n      <td>3.0</td>\n      <td>0.0</td>\n      <td>False</td>\n      <td>False</td>\n      <td>False</td>\n      <td>False</td>\n      <td>40.710884</td>\n      <td>-74.005610</td>\n      <td>2009.190855</td>\n      <td>6708.809145</td>\n    </tr>\n    <tr>\n      <th>20005</th>\n      <td>7263688258</td>\n      <td>9000.0</td>\n      <td>False</td>\n      <td>False</td>\n      <td>loft</td>\n      <td>w/d in unit</td>\n      <td>attached garage</td>\n      <td>2.0</td>\n      <td>3.0</td>\n      <td>False</td>\n      <td>True</td>\n      <td>False</td>\n      <td>False</td>\n      <td>40.743934</td>\n      <td>-73.926171</td>\n      <td>2943.796120</td>\n      <td>6056.203880</td>\n    </tr>\n    <tr>\n      <th>13930</th>\n      <td>7258118719</td>\n      <td>9000.0</td>\n      <td>False</td>\n      <td>False</td>\n      <td>apartment</td>\n      <td>laundry in bldg</td>\n      <td>no parking</td>\n      <td>3.0</td>\n      <td>2.0</td>\n      <td>False</td>\n      <td>False</td>\n      <td>False</td>\n      <td>False</td>\n      <td>40.777003</td>\n      <td>-73.961628</td>\n      <td>2947.680223</td>\n      <td>6052.319777</td>\n    </tr>\n    <tr>\n      <th>3024</th>\n      <td>7245127913</td>\n      <td>8800.0</td>\n      <td>False</td>\n      <td>False</td>\n      <td>apartment</td>\n      <td>w/d in unit</td>\n      <td>street parking</td>\n      <td>3.0</td>\n      <td>2.0</td>\n      <td>False</td>\n      <td>False</td>\n      <td>False</td>\n      <td>False</td>\n      <td>40.729980</td>\n      <td>-73.982070</td>\n      <td>2947.680223</td>\n      <td>5852.319777</td>\n    </tr>\n    <tr>\n      <th>15747</th>\n      <td>7259654551</td>\n      <td>8718.0</td>\n      <td>True</td>\n      <td>True</td>\n      <td>apartment</td>\n      <td>w/d in unit</td>\n      <td>detached garage</td>\n      <td>3.0</td>\n      <td>2.5</td>\n      <td>False</td>\n      <td>False</td>\n      <td>False</td>\n      <td>False</td>\n      <td>40.710397</td>\n      <td>-74.005599</td>\n      <td>2947.680223</td>\n      <td>5770.319777</td>\n    </tr>\n    <tr>\n      <th>3025</th>\n      <td>7245127220</td>\n      <td>8700.0</td>\n      <td>False</td>\n      <td>False</td>\n      <td>condo</td>\n      <td>w/d in unit</td>\n      <td>street parking</td>\n      <td>2.0</td>\n      <td>2.0</td>\n      <td>False</td>\n      <td>False</td>\n      <td>False</td>\n      <td>False</td>\n      <td>40.716488</td>\n      <td>-74.014450</td>\n      <td>2943.796120</td>\n      <td>5756.203880</td>\n    </tr>\n    <tr>\n      <th>13598</th>\n      <td>7257365911</td>\n      <td>8500.0</td>\n      <td>True</td>\n      <td>True</td>\n      <td>apartment</td>\n      <td>w/d in unit</td>\n      <td>attached garage</td>\n      <td>3.0</td>\n      <td>2.0</td>\n      <td>False</td>\n      <td>False</td>\n      <td>False</td>\n      <td>False</td>\n      <td>40.709904</td>\n      <td>-73.995667</td>\n      <td>2947.680223</td>\n      <td>5552.319777</td>\n    </tr>\n  </tbody>\n</table>\n</div>"
     },
     "metadata": {},
     "execution_count": 18
    }
   ],
   "source": [
    "# 1. Split the data\n",
    "X = data.drop([\"price\", \"id\"], axis=1, inplace=False)\n",
    "y = data[\"price\"]\n",
    "X_train, X_test, y_train, y_test = train_test_split(X, y, test_size=0.2)\n",
    "\n",
    "# 2. preprocess the features for training\n",
    "ct = make_column_transformer(\n",
    "    (\n",
    "        OneHotEncoder(handle_unknown = \"ignore\"),\n",
    "        categorical_features,\n",
    "    ),\n",
    "    remainder=\"passthrough\",\n",
    ")\n",
    "\n",
    "# 3. Fit and score the model\n",
    "rf = RandomForestRegressor()\n",
    "model = make_pipeline(ct, rf)\n",
    "model = model.fit(X_train, y_train)\n",
    "\n",
    "predictions = model.predict(X_test)\n",
    "error = abs(predictions - y_test)\n",
    "print(error.describe())\n",
    "model.score(X_test, y_test)\n",
    "\n",
    "# 4. Spot check worst errors\n",
    "spotcheck = data.copy(deep = True)\n",
    "spotcheck[\"predictions\"] = model.predict(X)\n",
    "spotcheck[\"error\"] = abs(spotcheck.predictions - spotcheck.price)\n",
    "spotcheck.sort_values(by = \"error\", ascending = False).head(10)"
   ]
  },
  {
   "cell_type": "code",
   "execution_count": null,
   "metadata": {},
   "outputs": [],
   "source": [
    "from .config import options\n",
    "model_columns = options[\"column order\"]\n",
    "raw_features = dict(zip(model.steps[0][1].get_feature_names(),model.steps[1][1].feature_importances_))\n",
    "from web.app import clean_features\n",
    "cleaned_features = clean_features(raw_features, model_columns)\n",
    "import json\n",
    "json.dump (cleaned_features, open(\"feature_importances.json\", \"wb\"))"
   ]
  },
  {
   "source": [
    "## Trial 1.1 - SHAP"
   ],
   "cell_type": "markdown",
   "metadata": {}
  },
  {
   "cell_type": "code",
   "execution_count": 17,
   "metadata": {},
   "outputs": [
    {
     "output_type": "execute_result",
     "data": {
      "text/plain": [
       "array([[-2.47282564e+00, -3.77158754e-02, -1.91803463e-02,\n",
       "        -9.27437646e-01, -5.47930724e-03,  5.61004090e-01,\n",
       "        -4.85093852e-03, -1.11600223e-02, -1.40015397e+01,\n",
       "        -3.38415320e-02,  1.58666985e+01,  1.50162682e+00,\n",
       "         2.09539081e+01,  7.12996387e-01, -2.75409479e+01,\n",
       "        -4.65363966e+00,  7.26057437e-01, -7.19232686e+00,\n",
       "         4.28834769e-01,  9.84963462e+00, -1.98421437e+00,\n",
       "        -1.08693085e+00,  2.84791277e-01, -1.11942223e+01,\n",
       "         2.93316795e+02, -1.32805494e+02,  1.29448992e+00,\n",
       "        -7.69719251e+01, -2.60916226e+00, -1.42894480e+01,\n",
       "         1.30075124e+01,  2.68914199e+02]])"
      ]
     },
     "metadata": {},
     "execution_count": 17
    },
    {
     "output_type": "execute_result",
     "data": {
      "text/plain": [
       "['onehotencoder__x0_apartment',\n",
       " 'onehotencoder__x0_condo',\n",
       " 'onehotencoder__x0_cottage/cabin',\n",
       " 'onehotencoder__x0_duplex',\n",
       " 'onehotencoder__x0_flat',\n",
       " 'onehotencoder__x0_house',\n",
       " 'onehotencoder__x0_in-law',\n",
       " 'onehotencoder__x0_land',\n",
       " 'onehotencoder__x0_loft',\n",
       " 'onehotencoder__x0_townhouse',\n",
       " 'onehotencoder__x1_laundry in bldg',\n",
       " 'onehotencoder__x1_laundry on site',\n",
       " 'onehotencoder__x1_no laundry on site',\n",
       " 'onehotencoder__x1_w/d hookups',\n",
       " 'onehotencoder__x1_w/d in unit',\n",
       " 'onehotencoder__x2_attached garage',\n",
       " 'onehotencoder__x2_carport',\n",
       " 'onehotencoder__x2_detached garage',\n",
       " 'onehotencoder__x2_no parking',\n",
       " 'onehotencoder__x2_off-street parking',\n",
       " 'onehotencoder__x2_street parking',\n",
       " 'onehotencoder__x2_valet parking',\n",
       " 'cats_ok',\n",
       " 'dogs_ok',\n",
       " 'bedrooms',\n",
       " 'bathrooms',\n",
       " 'no_smoking',\n",
       " 'is_furnished',\n",
       " 'ev_charging',\n",
       " 'wheelchair_acccess',\n",
       " 'latitude',\n",
       " 'longitude']"
      ]
     },
     "metadata": {},
     "execution_count": 17
    }
   ],
   "source": [
    "import shap\n",
    "\n",
    "from web.app import form_data_to_dataframe\n",
    "\n",
    "explainer = shap.TreeExplainer (model.steps[1][1])\n",
    "\n",
    "test_case = {\n",
    "    \"address\": \"50 Eldridge Street New York NY\",\n",
    "    \"cats_ok\": True,\n",
    "    \"dogs_ok\": False,\n",
    "    \"housing_type\": \"apartment\",\n",
    "    \"laundry\": \"laundry in bldg\",\n",
    "    \"bedrooms\": 3,\n",
    "    \"bathrooms\": 1,\n",
    "    \"parking\": \"street parking\",\n",
    "    \"no_smoking\": False,\n",
    "    \"is_furnished\": True,\n",
    "    \"wheelchair_acccess\": True,\n",
    "    \"ev_charging\": False\n",
    "}\n",
    "\n",
    "test_dataframe = form_data_to_dataframe(test_case)\n",
    "test_vector = model.steps[0][1].transform(test_dataframe)\n",
    "\n",
    "explainer.shap_values(test_vector)\n",
    "model.steps[0][1].get_feature_names()"
   ]
  },
  {
   "source": [
    "## Trial 2: KNN Regressor\n",
    "\n",
    "KNN is inherently more explainable than Random Forest"
   ],
   "cell_type": "markdown",
   "metadata": {}
  },
  {
   "cell_type": "code",
   "execution_count": null,
   "metadata": {},
   "outputs": [],
   "source": [
    "# 1. Split the data\n",
    "X = data.drop([\"price\", \"id\"], axis=1, inplace=False)\n",
    "y = data[\"price\"]\n",
    "X_train, X_test, y_train, y_test = train_test_split(X, y, test_size=0.2)\n",
    "\n",
    "# 2. preprocess the features for training\n",
    "ct = make_column_transformer(\n",
    "    (\n",
    "        OneHotEncoder(handle_unknown = \"ignore\"),\n",
    "        categorical_features,\n",
    "    ),\n",
    "    remainder=\"passthrough\",\n",
    ")\n",
    "\n",
    "# 3. Fit and score the model\n",
    "knn = KNeighborsRegressor()\n",
    "model = make_pipeline(ct, knn)\n",
    "model = model.fit(X_train, y_train)\n",
    "\n",
    "predictions = model.predict(X_test)\n",
    "error = abs(predictions - y_test)\n",
    "print(error.describe())\n",
    "model.score(X_test, y_test)\n",
    "\n",
    "# 4. Spot check worst errors\n",
    "spotcheck = data.copy(deep = True)\n",
    "spotcheck[\"predictions\"] = model.predict(X)\n",
    "spotcheck[\"error\"] = abs(spotcheck.predictions - spotcheck.price)\n",
    "spotcheck.sort_values(by = \"error\", ascending = False).head(10)"
   ]
  },
  {
   "source": [
    "## Trial 3: Linear Regressor"
   ],
   "cell_type": "markdown",
   "metadata": {}
  },
  {
   "cell_type": "code",
   "execution_count": null,
   "metadata": {},
   "outputs": [],
   "source": [
    "from sklearn.linear_model import LinearRegression\n",
    "\n",
    "# 1. Split the data\n",
    "X = data.drop([\"price\", \"id\"], axis=1, inplace=False)\n",
    "y = data[\"price\"]\n",
    "X_train, X_test, y_train, y_test = train_test_split(X, y, test_size=0.2)\n",
    "\n",
    "# 2. preprocess the features for training\n",
    "ct = make_column_transformer(\n",
    "    (\n",
    "        OneHotEncoder(handle_unknown = \"ignore\"),\n",
    "        categorical_features,\n",
    "    ),\n",
    "    remainder=\"passthrough\",\n",
    ")\n",
    "\n",
    "# 3. Fit and score the model\n",
    "lr = LinearRegression()\n",
    "model = make_pipeline(ct, lr)\n",
    "model = model.fit(X_train, y_train)\n",
    "\n",
    "predictions = model.predict(X_test)\n",
    "error = abs(predictions - y_test)\n",
    "print(error.describe())\n",
    "model.score(X_test, y_test)\n",
    "\n",
    "# 4. Spot check worst errors\n",
    "spotcheck = data.copy(deep = True)\n",
    "spotcheck[\"predictions\"] = model.predict(X)\n",
    "spotcheck[\"error\"] = abs(spotcheck.predictions - spotcheck.price)\n",
    "spotcheck.sort_values(by = \"error\", ascending = False).head(10)"
   ]
  },
  {
   "cell_type": "code",
   "execution_count": null,
   "metadata": {},
   "outputs": [],
   "source": [
    "[round(i, 2) for i in model.steps[1][1].coef_]\n",
    "model.steps[1][1].intercept_\n",
    "model.steps[0][1].get_feature_names()"
   ]
  }
 ]
}